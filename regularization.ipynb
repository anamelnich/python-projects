{
 "cells": [
  {
   "cell_type": "code",
   "execution_count": null,
   "id": "b2c17dda",
   "metadata": {},
   "outputs": [],
   "source": [
    "import pandas as pd\n",
    "import numpy as np\n",
    "from sklearn.utils import shuffle\n",
    "from sklearn.model_selection import GridSearchCV\n",
    "from sklearn.linear_model import Lasso\n",
    "import matplotlib.pyplot as plt"
   ]
  },
  {
   "cell_type": "code",
   "execution_count": null,
   "id": "0b09672c-43ac-4218-8981-c56bd5a6d2b6",
   "metadata": {},
   "outputs": [],
   "source": [
    "# Dataset contains cortical expression levels of 77 proteins\n",
    "df = pd.read_csv(\"data/Data_Cortex_Nuclear.csv\")\n",
    "proteins = df.loc[:,'DYRK1A_N':'CaNA_N']\n",
    "proteins = proteins.fillna(proteins.mean())"
   ]
  },
  {
   "cell_type": "code",
   "execution_count": null,
   "id": "10b5234a-4f70-44a6-8e50-bf6114fb4453",
   "metadata": {},
   "outputs": [],
   "source": [
    "# Describe expression of BAD protein based on expression of other proteins\n",
    "X = proteins.drop(columns='BAD_N')\n",
    "y = proteins['BAD_N']\n",
    "X, y = shuffle(X, y, random_state=42)"
   ]
  },
  {
   "cell_type": "code",
   "execution_count": null,
   "id": "40cf9189-c0af-4922-b0fc-f228db01a87b",
   "metadata": {},
   "outputs": [],
   "source": [
    "\n",
    "model = Lasso();\n",
    "alpha = np.linspace(1e-7, 1e-5, 10);\n",
    "params = {'alpha': alpha};\n",
    "cv = GridSearchCV(model,params,cv=5);\n",
    "cv.fit(X, y);\n",
    "best_model = cv.best_estimator_;\n",
    "best_model"
   ]
  },
  {
   "cell_type": "code",
   "execution_count": null,
   "id": "34f20c75-7725-4790-b561-d875c09a8c8b",
   "metadata": {},
   "outputs": [],
   "source": [
    "coefs = cv.best_estimator_.coef_\n",
    "n = len(coefs)\n",
    "plt.figure(figsize=(15, 6))\n",
    "plt.bar(range(n),coefs)\n",
    "plt.xticks(np.arange(n), X.columns.values, rotation=90);\n",
    "plt.show()\n",
    "\n",
    "print(\"The following proteins are not very informative for predicting BAD expression levels:\")\n",
    "for i in range(n):\n",
    "    if abs(coefs[i]) < 0.005:\n",
    "        print(X.columns.values[i])\n"
   ]
  }
 ],
 "metadata": {
  "kernelspec": {
   "display_name": "neu365p2",
   "language": "python",
   "name": "python3"
  },
  "language_info": {
   "codemirror_mode": {
    "name": "ipython",
    "version": 3
   },
   "file_extension": ".py",
   "mimetype": "text/x-python",
   "name": "python",
   "nbconvert_exporter": "python",
   "pygments_lexer": "ipython3",
   "version": "3.13.1"
  }
 },
 "nbformat": 4,
 "nbformat_minor": 5
}
